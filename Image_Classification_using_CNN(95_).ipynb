{
  "metadata": {
    "kernelspec": {
      "language": "python",
      "display_name": "Python 3",
      "name": "python3"
    },
    "language_info": {
      "name": "python",
      "version": "3.10.12",
      "mimetype": "text/x-python",
      "codemirror_mode": {
        "name": "ipython",
        "version": 3
      },
      "pygments_lexer": "ipython3",
      "nbconvert_exporter": "python",
      "file_extension": ".py"
    },
    "colab": {
      "name": "Cats vs Dogs : Image Classification using CNN(95%)",
      "provenance": [],
      "include_colab_link": true
    }
  },
  "nbformat_minor": 0,
  "nbformat": 4,
  "cells": [
    {
      "cell_type": "markdown",
      "metadata": {
        "id": "view-in-github",
        "colab_type": "text"
      },
      "source": [
        "<a href=\"https://colab.research.google.com/github/AmeenaM2003/TNSDC/blob/main/Image_Classification_using_CNN(95_).ipynb\" target=\"_parent\"><img src=\"https://colab.research.google.com/assets/colab-badge.svg\" alt=\"Open In Colab\"/></a>"
      ]
    },
    {
      "source": [
        "\n",
        "# IMPORTANT: RUN THIS CELL IN ORDER TO IMPORT YOUR KAGGLE DATA SOURCES\n",
        "# TO THE CORRECT LOCATION (/kaggle/input) IN YOUR NOTEBOOK,\n",
        "# THEN FEEL FREE TO DELETE THIS CELL.\n",
        "# NOTE: THIS NOTEBOOK ENVIRONMENT DIFFERS FROM KAGGLE'S PYTHON\n",
        "# ENVIRONMENT SO THERE MAY BE MISSING LIBRARIES USED BY YOUR\n",
        "# NOTEBOOK.\n",
        "\n",
        "import os\n",
        "import sys\n",
        "from tempfile import NamedTemporaryFile\n",
        "from urllib.request import urlopen\n",
        "from urllib.parse import unquote, urlparse\n",
        "from urllib.error import HTTPError\n",
        "from zipfile import ZipFile\n",
        "import tarfile\n",
        "import shutil\n",
        "\n",
        "CHUNK_SIZE = 40960\n",
        "DATA_SOURCE_MAPPING = 'stanford-dogs-dataset:https%3A%2F%2Fstorage.googleapis.com%2Fkaggle-data-sets%2F119698%2F791828%2Fbundle%2Farchive.zip%3FX-Goog-Algorithm%3DGOOG4-RSA-SHA256%26X-Goog-Credential%3Dgcp-kaggle-com%2540kaggle-161607.iam.gserviceaccount.com%252F20240405%252Fauto%252Fstorage%252Fgoog4_request%26X-Goog-Date%3D20240405T003035Z%26X-Goog-Expires%3D259200%26X-Goog-SignedHeaders%3Dhost%26X-Goog-Signature%3D5eb645228346321aac1a5817aecfb936123d874abfcc35e01c4263fe72c013f6980f404fae36428d384741bf69088c36cbc928d09d57d4b85a8e712e317ba281fadcb628f3e9de8fa333c2e0afc0f54f229d16960b4bed0b3bbad10fb04ee670dd7ae44aac34faf68c673e72cda46ff78a5b2ce58c77fbe909ab79c1ffa442122d05d51784dc61bf372ea12c0a83a42ee652b43c0019bba7fd2ad8c173a5d1cd55b40dc3e775c1db12630887f2ad4f5a88d168cf0c4813c90fa0e416e5ce8c2a0f2f4e8eb2eab159114690eedea0d7fe440e0c0b3ab9c9ae6a610f74c26962224622c6064a27fe22450b284c050c8e26d204a1f12c143e10f916f3a5c80eb0bf,microsoft-catsvsdogs-dataset:https%3A%2F%2Fstorage.googleapis.com%2Fkaggle-data-sets%2F550917%2F1003830%2Fbundle%2Farchive.zip%3FX-Goog-Algorithm%3DGOOG4-RSA-SHA256%26X-Goog-Credential%3Dgcp-kaggle-com%2540kaggle-161607.iam.gserviceaccount.com%252F20240405%252Fauto%252Fstorage%252Fgoog4_request%26X-Goog-Date%3D20240405T003035Z%26X-Goog-Expires%3D259200%26X-Goog-SignedHeaders%3Dhost%26X-Goog-Signature%3Db3c1f67e784a58c190d23847714e9846b5bc2887c8dd78b02a049d67253d395743851693abbc47472fb323e1f2c4f8c8c8d01c81d115809ad32f720df358efbadc72fe51a6bd3ad14edc62f82b8b556bed8c7a1a476a13aaae5b3588d87033de5971989010fbf283bc16bf0edbd87edb40a05df82658da3ca3011ebfde58490b6e1d957e86162385df73debfb2a51e1681f4fc14fb7a3184fccf05666b747085fd464e6fed49488a99647cd93ddc49f2c8dde0d2efc31bcdc8fc994831c3490e5a868a99760f9c76d7bcf36f9ef636ef28221fa4b58eb828c1f482017006d0912d96a76ea3fea76be0b776aa729d7efb95d2b9c3c1639adab40d6ce0b732be65'\n",
        "\n",
        "KAGGLE_INPUT_PATH='/kaggle/input'\n",
        "KAGGLE_WORKING_PATH='/kaggle/working'\n",
        "KAGGLE_SYMLINK='kaggle'\n",
        "\n",
        "!umount /kaggle/input/ 2> /dev/null\n",
        "shutil.rmtree('/kaggle/input', ignore_errors=True)\n",
        "os.makedirs(KAGGLE_INPUT_PATH, 0o777, exist_ok=True)\n",
        "os.makedirs(KAGGLE_WORKING_PATH, 0o777, exist_ok=True)\n",
        "\n",
        "try:\n",
        "  os.symlink(KAGGLE_INPUT_PATH, os.path.join(\"..\", 'input'), target_is_directory=True)\n",
        "except FileExistsError:\n",
        "  pass\n",
        "try:\n",
        "  os.symlink(KAGGLE_WORKING_PATH, os.path.join(\"..\", 'working'), target_is_directory=True)\n",
        "except FileExistsError:\n",
        "  pass\n",
        "\n",
        "for data_source_mapping in DATA_SOURCE_MAPPING.split(','):\n",
        "    directory, download_url_encoded = data_source_mapping.split(':')\n",
        "    download_url = unquote(download_url_encoded)\n",
        "    filename = urlparse(download_url).path\n",
        "    destination_path = os.path.join(KAGGLE_INPUT_PATH, directory)\n",
        "    try:\n",
        "        with urlopen(download_url) as fileres, NamedTemporaryFile() as tfile:\n",
        "            total_length = fileres.headers['content-length']\n",
        "            print(f'Downloading {directory}, {total_length} bytes compressed')\n",
        "            dl = 0\n",
        "            data = fileres.read(CHUNK_SIZE)\n",
        "            while len(data) > 0:\n",
        "                dl += len(data)\n",
        "                tfile.write(data)\n",
        "                done = int(50 * dl / int(total_length))\n",
        "                sys.stdout.write(f\"\\r[{'=' * done}{' ' * (50-done)}] {dl} bytes downloaded\")\n",
        "                sys.stdout.flush()\n",
        "                data = fileres.read(CHUNK_SIZE)\n",
        "            if filename.endswith('.zip'):\n",
        "              with ZipFile(tfile) as zfile:\n",
        "                zfile.extractall(destination_path)\n",
        "            else:\n",
        "              with tarfile.open(tfile.name) as tarfile:\n",
        "                tarfile.extractall(destination_path)\n",
        "            print(f'\\nDownloaded and uncompressed: {directory}')\n",
        "    except HTTPError as e:\n",
        "        print(f'Failed to load (likely expired) {download_url} to path {destination_path}')\n",
        "        continue\n",
        "    except OSError as e:\n",
        "        print(f'Failed to load {download_url} to path {destination_path}')\n",
        "        continue\n",
        "\n",
        "print('Data source import complete.')"
      ],
      "metadata": {
        "colab": {
          "base_uri": "https://localhost:8080/"
        },
        "id": "NjnqmV1AqjL_",
        "outputId": "2a34df59-abc4-4deb-f1fd-90b1d2e055fe"
      },
      "cell_type": "code",
      "outputs": [
        {
          "output_type": "stream",
          "name": "stdout",
          "text": [
            "Downloading stanford-dogs-dataset, 786955428 bytes compressed\n",
            "[==================================================] 786955428 bytes downloaded\n",
            "Downloaded and uncompressed: stanford-dogs-dataset\n",
            "Downloading microsoft-catsvsdogs-dataset, 825979578 bytes compressed\n",
            "[==================================================] 825979578 bytes downloaded\n",
            "Downloaded and uncompressed: microsoft-catsvsdogs-dataset\n",
            "Data source import complete.\n"
          ]
        }
      ],
      "execution_count": 2
    },
    {
      "cell_type": "markdown",
      "source": [
        "<div class=\"alert alert-block alert-info\"><h1 style=\"text-align:center;color:black\"> Dogs Vs Cats Classification Problem 📷 🚀 </h1> </div>\n",
        "The Dogs & Cats is a foundational problem for a basic CNN(convolutional neural network) model which involves classifying images as a dog or a cat.The dataset can be used for learning how to develop,evaluate and use convolutional deep learning neural networks for classification of images. This includes how to develop a robust test harness for estimating the performance of the model, exploring improvements for the model by changing the paramters of the model, saving and loading the model to make predicitions on new data.\n",
        "\n",
        "![1_EvMbMNRHm_aOf1n4tDO1Xg.jpg](attachment:0e084368-1f23-4445-a9d6-d0bd7fb563a7.jpg)"
      ],
      "metadata": {
        "id": "n2LYLVCkqjMP"
      }
    },
    {
      "cell_type": "markdown",
      "source": [
        "<div class=\"alert alert-block alert-warning\"><h2 style=\"text-align:Center;color:black\">Table of Content </h2> </div>\n",
        "\n",
        "1. [Introduction 💥](#1)\n",
        "1. [Data Description](#2)\n",
        "1. [Loading Libraries📖](#3)\n",
        "1. [Data Extraction📁](#4)\n",
        "1. [Data Exploration📊](#5)\n",
        "1. [Train Test Split](#6)\n",
        "    1. [Using Dataframe](#7)\n",
        "    1. [Using Directory](#8)\n",
        "1. [Data Preparation 🛠️](#9)\n",
        "    1. [Image Data Generator](#10)\n",
        "        1. [Using DataFrame](#11)\n",
        "        1. [Using Directory](#12)\n",
        "1. [Deep learning Model ⚙️](#13)\n",
        "    1. [Model Layers](#14)\n",
        "    1. [Callbacks](#15)\n",
        "    1. [Compile Model](#23)\n",
        "    1. [Fit Model](#16)\n",
        "    1. [Plot Result](#17)\n",
        "    1. [Evaluvation](#18)\n",
        "1. [Prediction](#19)\n",
        "    1. [Visualize Classified Images](#20)\n",
        "1. [Submission](#21)\n",
        "1. [Conclusion](#22)"
      ],
      "metadata": {
        "id": "_ohIB5gxqjMa"
      }
    },
    {
      "cell_type": "markdown",
      "source": [
        "<a id='1'></a>\n",
        "<div class=\"alert alert-block alert-danger\"><h2 style=\"text-align:center;color:black\"> Introduction 💥</h2> </div>\n",
        "\n",
        "In this article, we will discover how to develop a CNN to classify images of dogs and cats.\n",
        "\n",
        "After reading this article, you will know :\n",
        "\n",
        "* How to load and prepare the images for training purpose.\n",
        "* How to split data for training and validation purpose.\n",
        "* How to apply Data Augmentation to the data.\n",
        "* How to develop a CNN model using keras and how to choose various parameters for improving performance of the model.\n",
        "* How to evaluate performance of our model.\n",
        "* How to save and load a model for further predictions.\n",
        "* How to draw the confusion matrix for trained model."
      ],
      "metadata": {
        "id": "pejZHIMBqjMf"
      }
    },
    {
      "cell_type": "markdown",
      "source": [
        "<a id='2'></a>\n",
        "<div class=\"alert alert-block alert-info\"><h2 style=\"text-align:center;color:black\"> Data Description </h2> </div>\n",
        "\n",
        "The training archive contains 25,000 images of dogs and cats.\n",
        "\n",
        "Train your algorithm on these files and predict the labels for test1.zip.\n",
        "* **1 = dog**\n",
        "* **0 = cat**\n"
      ],
      "metadata": {
        "id": "d-ZUG4OVqjMi"
      }
    },
    {
      "cell_type": "markdown",
      "source": [
        "<a id='3'></a>\n",
        "<div class=\"alert alert-block alert-info\"><h2 style=\"text-align:center;color:black\"> Loading Libraries </h2> </div>"
      ],
      "metadata": {
        "id": "GJV1_0dwqjMm"
      }
    },
    {
      "cell_type": "code",
      "source": [
        "# Basic\n",
        "import os\n",
        "from os import makedirs\n",
        "from os import listdir\n",
        "from shutil import copyfile\n",
        "from random import seed\n",
        "from random import random\n",
        "import numpy as np\n",
        "import pandas as pd\n",
        "\n",
        "# visuals\n",
        "import seaborn as sns\n",
        "import matplotlib.pyplot as plt\n",
        "from matplotlib.image import imread\n",
        "from PIL import Image\n",
        "\n",
        "# Scikit-learn\n",
        "from sklearn.model_selection import train_test_split\n",
        "from sklearn.metrics import classification_report,confusion_matrix,ConfusionMatrixDisplay\n",
        "\n",
        "# Tensorflow\n",
        "import tensorflow as tf\n",
        "from tensorflow.keras.models import Sequential\n",
        "from tensorflow.keras.preprocessing.image import ImageDataGenerator\n",
        "from tensorflow.keras.layers import Dense,MaxPooling2D,Dropout,Flatten,BatchNormalization,Conv2D\n",
        "from tensorflow.keras.callbacks import ReduceLROnPlateau,EarlyStopping"
      ],
      "metadata": {
        "execution": {
          "iopub.status.busy": "2023-09-05T14:35:56.251814Z",
          "iopub.execute_input": "2023-09-05T14:35:56.252235Z",
          "iopub.status.idle": "2023-09-05T14:35:56.260866Z",
          "shell.execute_reply.started": "2023-09-05T14:35:56.252204Z",
          "shell.execute_reply": "2023-09-05T14:35:56.259533Z"
        },
        "_kg_hide-output": true,
        "trusted": true,
        "id": "3jRb6WwyqjMr"
      },
      "execution_count": null,
      "outputs": []
    },
    {
      "cell_type": "markdown",
      "source": [
        "<a id='4'></a>\n",
        "<div class=\"alert alert-block alert-info\"><h2 style=\"text-align:center;color:black\"> Data Extraction </h2> </div>"
      ],
      "metadata": {
        "id": "_5GSwq6rqjMx"
      }
    },
    {
      "cell_type": "code",
      "source": [
        "train_path = \"../input/dogs-vs-cats/test1.zip\"\n",
        "test_path = \"../input/dogs-vs-cats/train.zip\"\n",
        "\n",
        "files = \"/kaggle/working/\"\n",
        "\n",
        "import zipfile\n",
        "\n",
        "with zipfile.ZipFile(train_path, 'r') as zipp:\n",
        "    zipp.extractall(files)\n",
        "\n",
        "with zipfile.ZipFile(test_path, 'r') as zipp:\n",
        "    zipp.extractall(files)"
      ],
      "metadata": {
        "execution": {
          "iopub.status.busy": "2023-09-05T13:47:45.979689Z",
          "iopub.execute_input": "2023-09-05T13:47:45.980955Z",
          "iopub.status.idle": "2023-09-05T13:48:03.919766Z",
          "shell.execute_reply.started": "2023-09-05T13:47:45.980919Z",
          "shell.execute_reply": "2023-09-05T13:48:03.918726Z"
        },
        "trusted": true,
        "id": "u8lVTSlpqjM1"
      },
      "execution_count": null,
      "outputs": []
    },
    {
      "cell_type": "markdown",
      "source": [
        "### Loading Images in a Dataframe"
      ],
      "metadata": {
        "id": "9ES5nzBgqjM5"
      }
    },
    {
      "cell_type": "code",
      "source": [
        "image_dir = \"../working/train/\"\n",
        "\n",
        "filenames = os.listdir(image_dir)\n",
        "labels = [x.split(\".\")[0] for x in filenames]\n",
        "\n",
        "data = pd.DataFrame({\"filename\": filenames, \"label\": labels})\n",
        "\n",
        "data.head()"
      ],
      "metadata": {
        "execution": {
          "iopub.status.busy": "2023-09-05T13:48:09.144563Z",
          "iopub.execute_input": "2023-09-05T13:48:09.144927Z",
          "iopub.status.idle": "2023-09-05T13:48:09.1954Z",
          "shell.execute_reply.started": "2023-09-05T13:48:09.144897Z",
          "shell.execute_reply": "2023-09-05T13:48:09.194456Z"
        },
        "trusted": true,
        "id": "kqqiVxLTqjM9"
      },
      "execution_count": null,
      "outputs": []
    },
    {
      "cell_type": "markdown",
      "source": [
        "<a id='5'></a>\n",
        "<div class=\"alert alert-block alert-info\"><h2 style=\"text-align:center;color:black\"> Data Exploration </h2> </div>"
      ],
      "metadata": {
        "id": "6KHdwRP3qjNA"
      }
    },
    {
      "cell_type": "markdown",
      "source": [
        "First, we start by visualizing the variable of interest.\n",
        "\n",
        "Let's view more images in a grid format.\n",
        "\n",
        "<h5 style=\"text-align:center;color:Green\">We visualize few images of Dogs. </h5>"
      ],
      "metadata": {
        "id": "FTuBd_pbqjND"
      }
    },
    {
      "cell_type": "code",
      "source": [
        "plt.figure(figsize=(20,20)) # specifying the overall grid size\n",
        "plt.subplots_adjust(hspace=0.4)\n",
        "\n",
        "\n",
        "for i in range(10):\n",
        "\n",
        "    plt.subplot(1,10,i+1)    # the number of images in the grid is 10*10 (100)\n",
        "    filename = 'train/' + 'dog.' + str(i) + '.jpg'\n",
        "    image = imread(filename)\n",
        "    plt.imshow(image)\n",
        "    plt.title('Dog',fontsize=12)\n",
        "    plt.axis('off')\n",
        "\n",
        "plt.show()"
      ],
      "metadata": {
        "execution": {
          "iopub.status.busy": "2023-09-05T13:48:18.729817Z",
          "iopub.execute_input": "2023-09-05T13:48:18.730492Z",
          "iopub.status.idle": "2023-09-05T13:48:19.746436Z",
          "shell.execute_reply.started": "2023-09-05T13:48:18.730458Z",
          "shell.execute_reply": "2023-09-05T13:48:19.745511Z"
        },
        "_kg_hide-input": true,
        "trusted": true,
        "id": "w3Axts8XqjNF"
      },
      "execution_count": null,
      "outputs": []
    },
    {
      "cell_type": "markdown",
      "source": [
        "<h5 style=\"text-align:center;color:Red\">We visualize few images of Cats. </h5>"
      ],
      "metadata": {
        "id": "RkXsMnsjqjNI"
      }
    },
    {
      "cell_type": "code",
      "source": [
        "plt.figure(figsize=(20,20)) # specifying the overall grid size\n",
        "plt.subplots_adjust(hspace=0.4)\n",
        "\n",
        "\n",
        "for i in range(10):\n",
        "\n",
        "    plt.subplot(1,10,i+1)    # the number of images in the grid is 10*10 (100)\n",
        "    filename = 'train/' + 'cat.' + str(i) + '.jpg'\n",
        "    image = imread(filename)\n",
        "    plt.imshow(image)\n",
        "    plt.title('Cat',fontsize=12)\n",
        "    plt.axis('off')\n",
        "\n",
        "plt.show()"
      ],
      "metadata": {
        "execution": {
          "iopub.status.busy": "2023-09-05T13:48:24.109937Z",
          "iopub.execute_input": "2023-09-05T13:48:24.110358Z",
          "iopub.status.idle": "2023-09-05T13:48:25.068551Z",
          "shell.execute_reply.started": "2023-09-05T13:48:24.110307Z",
          "shell.execute_reply": "2023-09-05T13:48:25.06771Z"
        },
        "_kg_hide-input": true,
        "trusted": true,
        "id": "66TpbKmuqjNJ"
      },
      "execution_count": null,
      "outputs": []
    },
    {
      "cell_type": "markdown",
      "source": [
        "Images are of varying size.\n",
        "\n",
        "Every time the cell is run different set of images will be displayed, one can scan the images of both categories. Presence of humans in some images could be a challenge for the model to classify.\n",
        "\n",
        "Some images have more than one cats or dogs respectively."
      ],
      "metadata": {
        "id": "NBVqq0_ZqjNM"
      }
    },
    {
      "cell_type": "markdown",
      "source": [
        "<a id='6'></a>\n",
        "<div class=\"alert alert-block alert-info\"><h2 style=\"text-align:center;color:black\"> Train Test Split </h2> </div>"
      ],
      "metadata": {
        "id": "4fUdJE7sqjNO"
      }
    },
    {
      "cell_type": "markdown",
      "source": [
        "<a id='7'></a>\n",
        "<div class=\"alert alert-block alert-warning\"><h4 style=\"text-align:center;color:black\"> Using Dataframe </h4> </div>"
      ],
      "metadata": {
        "id": "XccB7U1ZqjNP"
      }
    },
    {
      "cell_type": "code",
      "source": [
        "# train test split using dataframe\n",
        "\n",
        "labels = data['label']\n",
        "\n",
        "X_train, X_temp = train_test_split(data, test_size=0.2, stratify=labels, random_state = 42)\n",
        "\n",
        "label_test_val = X_temp['label']\n",
        "\n",
        "X_test, X_val = train_test_split(X_temp, test_size=0.5, stratify=label_test_val, random_state = 42)\n",
        "\n",
        "print('The shape of train data',X_train.shape)\n",
        "print('The shape of test data',X_test.shape)\n",
        "print('The shape of validation data',X_val.shape)"
      ],
      "metadata": {
        "execution": {
          "iopub.status.busy": "2023-09-05T13:48:32.965079Z",
          "iopub.execute_input": "2023-09-05T13:48:32.965438Z",
          "iopub.status.idle": "2023-09-05T13:48:33.034261Z",
          "shell.execute_reply.started": "2023-09-05T13:48:32.965409Z",
          "shell.execute_reply": "2023-09-05T13:48:33.033108Z"
        },
        "trusted": true,
        "id": "mAThO0mpqjNR"
      },
      "execution_count": null,
      "outputs": []
    },
    {
      "cell_type": "markdown",
      "source": [
        "Now we will Create a barplot to see the class distrubtion in trainting dataset."
      ],
      "metadata": {
        "id": "v7FMyLGxqjNT"
      }
    },
    {
      "cell_type": "code",
      "source": [
        "labels = ['Cat','Dog']\n",
        "\n",
        "label1,count1 = np.unique(X_train.label,return_counts=True)\n",
        "label2,count2 = np.unique(X_val.label,return_counts=True)\n",
        "label3,count3 = np.unique(X_test.label,return_counts=True)\n",
        "\n",
        "uni1 = pd.DataFrame(data=count1,index=labels,columns=['Count1'])\n",
        "uni2 = pd.DataFrame(data=count2,index=labels,columns=['Count2'])\n",
        "uni3 = pd.DataFrame(data=count3,index=labels,columns=['Count3'])\n",
        "\n",
        "\n",
        "plt.figure(figsize=(20,6),dpi=200)\n",
        "sns.set_style('darkgrid')\n",
        "\n",
        "plt.subplot(131)\n",
        "sns.barplot(data=uni1,x=uni1.index,y='Count1',palette='icefire',width=0.2).set_title('Class distribution in Training set',fontsize=15)\n",
        "plt.xlabel('Labels',fontsize=12)\n",
        "plt.ylabel('Count',fontsize=12)\n",
        "\n",
        "plt.subplot(132)\n",
        "sns.barplot(data=uni2,x=uni2.index,y='Count2',palette='icefire',width=0.2).set_title('Class distribution in validation set',fontsize=15)\n",
        "plt.xlabel('Labels',fontsize=12)\n",
        "plt.ylabel('Count',fontsize=12)\n",
        "\n",
        "\n",
        "plt.subplot(133)\n",
        "sns.barplot(data=uni3,x=uni3.index,y='Count3',palette='icefire',width=0.2).set_title('Class distribution in Testing set',fontsize=15)\n",
        "plt.xlabel('Labels',fontsize=12)\n",
        "plt.ylabel('Count',fontsize=12)\n",
        "\n",
        "plt.show()"
      ],
      "metadata": {
        "execution": {
          "iopub.status.busy": "2023-09-05T13:48:37.209453Z",
          "iopub.execute_input": "2023-09-05T13:48:37.210153Z",
          "iopub.status.idle": "2023-09-05T13:48:38.03665Z",
          "shell.execute_reply.started": "2023-09-05T13:48:37.210118Z",
          "shell.execute_reply": "2023-09-05T13:48:38.035696Z"
        },
        "_kg_hide-input": true,
        "trusted": true,
        "id": "SYbDHxN5qjNV"
      },
      "execution_count": null,
      "outputs": []
    },
    {
      "cell_type": "markdown",
      "source": [
        "<a id='8'></a>\n",
        "<div class=\"alert alert-block alert-warning\"><h4 style=\"text-align:center;color:black\"> Using Directory </h4> </div>"
      ],
      "metadata": {
        "id": "gKQSwgKKqjNY"
      }
    },
    {
      "cell_type": "code",
      "source": [
        "# create directories\n",
        "dataset_home = 'dataset_dogs_vs_cats/'\n",
        "subdirs = ['train/', 'test/']\n",
        "\n",
        "for subdir in subdirs:\n",
        "    # create label subdirectories\n",
        "    labeldirs = ['dogs/', 'cats/']\n",
        "    for labldir in labeldirs:\n",
        "        newdir = dataset_home + subdir + labldir\n",
        "        makedirs(newdir, exist_ok=True)\n",
        "# seed random number generator\n",
        "seed(1)\n",
        "# define ratio of pictures to use for validation\n",
        "val_ratio = 0.2\n",
        "# copy training dataset images into subdirectories\n",
        "src_directory = 'train/'\n",
        "for file in listdir(src_directory):\n",
        "        src = src_directory + '/' + file\n",
        "        dst_dir = 'train/'\n",
        "        if random() < val_ratio:\n",
        "            dst_dir = 'test/'\n",
        "        if file.startswith('cat'):\n",
        "            dst = dataset_home + dst_dir + 'cats/' + file\n",
        "            copyfile(src, dst)\n",
        "        elif file.startswith('dog'):\n",
        "            dst = dataset_home + dst_dir + 'dogs/' + file\n",
        "            copyfile(src, dst)\n",
        "\n",
        "\n",
        "path1 = \"/kaggle/working/dataset_dogs_vs_cats/train/cats\"\n",
        "path2 = \"/kaggle/working/dataset_dogs_vs_cats/train/dogs\"\n",
        "path3 = \"/kaggle/working/dataset_dogs_vs_cats/test/cats\"\n",
        "path4 = \"/kaggle/working/dataset_dogs_vs_cats/test/dogs\"\n",
        "\n",
        "\n",
        "print('Then number of cat images in training data is' ,len(os.listdir(path1)))\n",
        "print('Then number of dog images in training data is' ,len(os.listdir(path2)))\n",
        "print('Then number of cat images in validation data is' ,len(os.listdir(path3)))\n",
        "print('Then number of dog images in validation data is' ,len(os.listdir(path4)))\n"
      ],
      "metadata": {
        "execution": {
          "iopub.status.busy": "2023-09-05T13:48:46.839843Z",
          "iopub.execute_input": "2023-09-05T13:48:46.840217Z",
          "iopub.status.idle": "2023-09-05T13:48:49.361872Z",
          "shell.execute_reply.started": "2023-09-05T13:48:46.840183Z",
          "shell.execute_reply": "2023-09-05T13:48:49.360796Z"
        },
        "_kg_hide-input": true,
        "trusted": true,
        "id": "Usrx5jSnqjNZ"
      },
      "execution_count": null,
      "outputs": []
    },
    {
      "cell_type": "markdown",
      "source": [
        "<a id='9'></a>\n",
        "<div class=\"alert alert-block alert-info\"><h2 style=\"text-align:center;color:black\"> Data Preparation </h2> </div>\n",
        "\n",
        "firstly, we will list out all the important parameters and respective values."
      ],
      "metadata": {
        "id": "m4mcIwY0qjNc"
      }
    },
    {
      "cell_type": "code",
      "source": [
        "# parameters\n",
        "image_size = 128\n",
        "image_channel = 3\n",
        "bat_size = 32"
      ],
      "metadata": {
        "execution": {
          "iopub.status.busy": "2023-09-05T13:48:56.364574Z",
          "iopub.execute_input": "2023-09-05T13:48:56.364952Z",
          "iopub.status.idle": "2023-09-05T13:48:56.369879Z",
          "shell.execute_reply.started": "2023-09-05T13:48:56.36492Z",
          "shell.execute_reply": "2023-09-05T13:48:56.368791Z"
        },
        "trusted": true,
        "id": "hc7gXF8GqjNe"
      },
      "execution_count": null,
      "outputs": []
    },
    {
      "cell_type": "markdown",
      "source": [
        "<a id='10'></a>\n",
        "<div class=\"alert alert-block alert-danger\"><h3 style=\"text-align:center;color:black\">Image Data Generator </h3> </div>\n",
        "\n",
        "* The data for will used by flow_from_dataframe and flow_from_directory.\n",
        "* The batch size is 32 and the image size is (128,128).\n"
      ],
      "metadata": {
        "id": "vBLrfHozqjNh"
      }
    },
    {
      "cell_type": "code",
      "source": [
        "# Creating image data generator\n",
        "train_datagen = ImageDataGenerator(rescale=1./255,\n",
        "                                    rotation_range = 15,\n",
        "                                    horizontal_flip = True,\n",
        "                                    zoom_range = 0.2,\n",
        "                                    shear_range = 0.1,\n",
        "                                    fill_mode = 'reflect',\n",
        "                                    width_shift_range = 0.1,\n",
        "                                    height_shift_range = 0.1)\n",
        "\n",
        "test_datagen = ImageDataGenerator(rescale=1./255)"
      ],
      "metadata": {
        "execution": {
          "iopub.status.busy": "2023-09-05T13:48:59.919701Z",
          "iopub.execute_input": "2023-09-05T13:48:59.920071Z",
          "iopub.status.idle": "2023-09-05T13:48:59.926486Z",
          "shell.execute_reply.started": "2023-09-05T13:48:59.92004Z",
          "shell.execute_reply": "2023-09-05T13:48:59.925241Z"
        },
        "trusted": true,
        "id": "8hgBT_2EqjNj"
      },
      "execution_count": null,
      "outputs": []
    },
    {
      "cell_type": "markdown",
      "source": [
        "<a id='11'></a>\n",
        "<div class=\"alert alert-block alert-warning\"><h4 style=\"text-align:center;color:black\"> Using Dataframe </h4> </div>"
      ],
      "metadata": {
        "id": "wrdZ_xGNqjNl"
      }
    },
    {
      "cell_type": "code",
      "source": [
        "# Applying image data gernerator to train and test data\n",
        "\n",
        "train_generator = train_datagen.flow_from_dataframe(X_train,\n",
        "                                                    directory = 'train/',\n",
        "                                                    x_col= 'filename',\n",
        "                                                    y_col= 'label',\n",
        "                                                    batch_size = bat_size,\n",
        "                                                    target_size = (image_size,image_size)\n",
        "                                                   )\n",
        "val_generator = test_datagen.flow_from_dataframe(X_val,\n",
        "                                                 directory = 'train/',\n",
        "                                                 x_col= 'filename',\n",
        "                                                 y_col= 'label',\n",
        "                                                 batch_size = bat_size,\n",
        "                                                 target_size = (image_size,image_size),\n",
        "                                                 shuffle=False\n",
        "                                                )\n",
        "\n",
        "test_generator = test_datagen.flow_from_dataframe(X_test,\n",
        "                                                  directory = 'train/',\n",
        "                                                  x_col= 'filename',\n",
        "                                                  y_col= 'label',\n",
        "                                                  batch_size = bat_size,\n",
        "                                                  target_size = (image_size,image_size),\n",
        "                                                  shuffle=False\n",
        "                                                 )"
      ],
      "metadata": {
        "execution": {
          "iopub.status.busy": "2023-09-05T13:49:03.174663Z",
          "iopub.execute_input": "2023-09-05T13:49:03.175028Z",
          "iopub.status.idle": "2023-09-05T13:49:03.477142Z",
          "shell.execute_reply.started": "2023-09-05T13:49:03.174999Z",
          "shell.execute_reply": "2023-09-05T13:49:03.476055Z"
        },
        "trusted": true,
        "id": "u0tqj4YWqjNn"
      },
      "execution_count": null,
      "outputs": []
    },
    {
      "cell_type": "markdown",
      "source": [
        "<a id='12'></a>\n",
        "<div class=\"alert alert-block alert-warning\"><h4 style=\"text-align:center;color:black\"> Using Directory </h4> </div>"
      ],
      "metadata": {
        "id": "oU9WwYZSqjNp"
      }
    },
    {
      "cell_type": "code",
      "source": [
        "train_gen = train_datagen.flow_from_directory('/kaggle/working/dataset_dogs_vs_cats/train/',\n",
        "                                              class_mode='binary',\n",
        "                                              target_size = (image_size,image_size),\n",
        "                                              batch_size = bat_size,\n",
        "                                             )\n",
        "\n",
        "val_gen = test_datagen.flow_from_directory('/kaggle/working/dataset_dogs_vs_cats/test/',\n",
        "                                          class_mode='binary',\n",
        "                                          batch_size = bat_size,\n",
        "                                          target_size = (image_size,image_size),\n",
        "                                          shuffle = False\n",
        "                                         )"
      ],
      "metadata": {
        "execution": {
          "iopub.status.busy": "2023-09-05T15:05:32.785369Z",
          "iopub.execute_input": "2023-09-05T15:05:32.785738Z",
          "iopub.status.idle": "2023-09-05T15:05:33.461229Z",
          "shell.execute_reply.started": "2023-09-05T15:05:32.785707Z",
          "shell.execute_reply": "2023-09-05T15:05:33.460326Z"
        },
        "trusted": true,
        "id": "xIpZ5lm8qjNr"
      },
      "execution_count": null,
      "outputs": []
    },
    {
      "cell_type": "markdown",
      "source": [
        "<a id='13'></a>\n",
        "<div class=\"alert alert-block alert-info\"><h2 style=\"text-align:center;color:black\"> Deep Learning Model </h2> </div>"
      ],
      "metadata": {
        "id": "bEqf_pAKqjNu"
      }
    },
    {
      "cell_type": "markdown",
      "source": [
        "<a id='14'></a>\n",
        "<div class=\"alert alert-block alert-danger\"><h3 style=\"text-align:center;color:black\">Model Layers </h3> </div>\n",
        "\n",
        "\n",
        "### Architecture\n",
        "\n",
        "The architecture of the Cat vs Dog Image Classification model consists of the following Layers and components:\n",
        "\n",
        "#### Layers :\n",
        "* The input layer consist of a Conv2D with 32 filters and activation relu.\n",
        "* The model contain the 3 blocks of convolution with increasing filters and activation relu.\n",
        "* Each convolution block contains Batch Noramlization, Max pooling (pool_size = 2) and Dropout (0.2).\n",
        "* The fully connected layers contain Flatten layer, Dense layer with 512 units and a Dropout layer.\n",
        "* The output layer is a Dense layer with 2 units and softmax activation.\n",
        "\n",
        "#### Components:\n",
        "\n",
        "* **Input Layer:** Receives input images for classification.\n",
        "* **Convolutional Layers:** Extract features from the images through convolutional operations.\n",
        "* **Pooling Layers:** Reduce the spatial dimensions of the feature maps.\n",
        "* **Flatten Layer:** Convert the 2D feature maps into a 1D vector.\n",
        "* **Fully Connected Layers:** Perform classification using densely connected layers.\n",
        "* **Output Layer:** Provides the final prediction probabilities for cat and dog classes."
      ],
      "metadata": {
        "id": "8jHsE6xeqjNw"
      }
    },
    {
      "cell_type": "code",
      "source": [
        "model = Sequential()\n",
        "\n",
        "# Input Layer\n",
        "model.add(Conv2D(32,(3,3),activation='relu',input_shape = (image_size,image_size,image_channel)))\n",
        "model.add(BatchNormalization())\n",
        "model.add(MaxPooling2D(pool_size=(2,2)))\n",
        "model.add(Dropout(0.2))\n",
        "\n",
        "# Bloack 1\n",
        "model.add(Conv2D(64,(3,3),activation='relu'))\n",
        "model.add(BatchNormalization())\n",
        "model.add(MaxPooling2D(pool_size=(2,2)))\n",
        "model.add(Dropout(0.2))\n",
        "# Block 2\n",
        "model.add(Conv2D(128,(3,3),activation='relu'))\n",
        "model.add(BatchNormalization())\n",
        "model.add(MaxPooling2D(pool_size=(2,2)))\n",
        "model.add(Dropout(0.2))\n",
        "# Block 3\n",
        "model.add(Conv2D(256,(3,3),activation='relu'))\n",
        "model.add(BatchNormalization())\n",
        "model.add(MaxPooling2D(pool_size=(2,2)))\n",
        "model.add(Dropout(0.2))\n",
        "\n",
        "# Fully Connected layers\n",
        "model.add(Flatten())\n",
        "model.add(Dense(512,activation='relu'))\n",
        "model.add(BatchNormalization())\n",
        "model.add(Dropout(0.2))\n",
        "\n",
        "# Output layer\n",
        "model.add(Dense(2,activation='softmax'))\n",
        "\n",
        "model.summary()"
      ],
      "metadata": {
        "execution": {
          "iopub.status.busy": "2023-09-05T13:49:38.42484Z",
          "iopub.execute_input": "2023-09-05T13:49:38.425198Z",
          "iopub.status.idle": "2023-09-05T13:49:38.645106Z",
          "shell.execute_reply.started": "2023-09-05T13:49:38.425169Z",
          "shell.execute_reply": "2023-09-05T13:49:38.644348Z"
        },
        "_kg_hide-input": true,
        "trusted": true,
        "id": "N524G3q_qjNz"
      },
      "execution_count": null,
      "outputs": []
    },
    {
      "cell_type": "markdown",
      "source": [
        "<a id='15'></a>\n",
        "<div class=\"alert alert-block alert-danger\"><h3 style=\"text-align:center;color:black\"> Callbacks </h3> </div>\n",
        "we will be using two callbacks -\n",
        "\n",
        "* **ReduceLROnPlateau :** Reduce learning rate when a metric has stopped improving.\n",
        "* **EarlyStopping :** Stop training when a monitored metric has stopped improving."
      ],
      "metadata": {
        "id": "FDmk__0SqjN1"
      }
    },
    {
      "cell_type": "code",
      "source": [
        "learning_rate_reduction = ReduceLROnPlateau(monitor = 'val_accuracy',\n",
        "                                            patience=2,\n",
        "                                            factor=0.5,\n",
        "                                            min_lr = 0.00001,\n",
        "                                            verbose = 1)\n",
        "\n",
        "early_stoping = EarlyStopping(monitor='val_loss',patience= 3,restore_best_weights=True,verbose=0)"
      ],
      "metadata": {
        "execution": {
          "iopub.status.busy": "2023-09-05T13:50:35.345069Z",
          "iopub.execute_input": "2023-09-05T13:50:35.34543Z",
          "iopub.status.idle": "2023-09-05T13:50:35.352108Z",
          "shell.execute_reply.started": "2023-09-05T13:50:35.345401Z",
          "shell.execute_reply": "2023-09-05T13:50:35.350825Z"
        },
        "trusted": true,
        "id": "HfD5OoZMqjN3"
      },
      "execution_count": null,
      "outputs": []
    },
    {
      "cell_type": "markdown",
      "source": [
        "<a id='23'></a>\n",
        "<div class=\"alert alert-block alert-danger\"><h3 style=\"text-align:center;color:black\"> Compile the model </h3> </div>\n",
        "Finally we will compile the model .There are 3 things to mention here : Optimizer,Loss, Metrics\n",
        "\n",
        "* **Optimizer** :- To minimize cost function we use different methods For ex :- like gradient descent, stochastic gradient descent. So these are call optimizers. We are using a default one here which is adam.\n",
        "​\n",
        "* **Loss** :- To make our model better we either minimize loss or maximize accuracy. Neural Networks always minimize loss. To measure it we can use different formulas like 'categorical_crossentropy' or 'binary_crossentropy'. Here I have used binary_crossentropy.\n",
        "​\n",
        "* **Metrics** :- This is to denote the measure of your model. Can be accuracy or some other metric."
      ],
      "metadata": {
        "id": "kfw2cZW3qjN4"
      }
    },
    {
      "cell_type": "code",
      "source": [
        "model.compile(optimizer='adam',loss='binary_crossentropy',metrics=['accuracy'])"
      ],
      "metadata": {
        "execution": {
          "iopub.status.busy": "2023-09-05T13:50:00.299663Z",
          "iopub.execute_input": "2023-09-05T13:50:00.300547Z",
          "iopub.status.idle": "2023-09-05T13:50:00.320395Z",
          "shell.execute_reply.started": "2023-09-05T13:50:00.300512Z",
          "shell.execute_reply": "2023-09-05T13:50:00.31947Z"
        },
        "trusted": true,
        "id": "vOo_UcMKqjN6"
      },
      "execution_count": null,
      "outputs": []
    },
    {
      "cell_type": "markdown",
      "source": [
        "<a id='16'></a>\n",
        "<div class=\"alert alert-block alert-danger\"><h3 style=\"text-align:center;color:black\"> Fit the model </h3> </div>\n",
        "\n",
        "We are now going to train our compiled model using the train iterator (train_generator) and use the val iterator (val_generator) as a validation dataset during training.\n",
        "\n",
        "The number of steps for the train and validation iterators must be specified. This is the number of batches that will comprise one epoch. This can be specified via the length of each iterator, and will be the total number of images in the train and validation directories divided by the batch size (32).\n",
        "\n",
        "The model will be fit for 30 epochs."
      ],
      "metadata": {
        "id": "1Gni8NyxqjOU"
      }
    },
    {
      "cell_type": "code",
      "source": [
        "cat_dog = model.fit(train_generator,\n",
        "                    validation_data = val_generator,\n",
        "                    callbacks=[early_stoping,learning_rate_reduction],\n",
        "                    epochs = 30,\n",
        "                    # steps_per_epoch = len(train_generator),\n",
        "                    # validation_steps = len(val_generaotor),\n",
        "                   )"
      ],
      "metadata": {
        "execution": {
          "iopub.status.busy": "2023-09-05T13:50:38.996717Z",
          "iopub.execute_input": "2023-09-05T13:50:38.997099Z",
          "iopub.status.idle": "2023-09-05T14:20:52.678296Z",
          "shell.execute_reply.started": "2023-09-05T13:50:38.997067Z",
          "shell.execute_reply": "2023-09-05T14:20:52.677203Z"
        },
        "_kg_hide-output": true,
        "trusted": true,
        "id": "4JOe5rqtqjOW"
      },
      "execution_count": null,
      "outputs": []
    },
    {
      "cell_type": "markdown",
      "source": [
        "<a id='17'></a>\n",
        "<div class=\"alert alert-block alert-danger\"><h3 style=\"text-align:center;color:black\"> Plot the results </h3> </div>"
      ],
      "metadata": {
        "id": "ifvH-KJYqjOZ"
      }
    },
    {
      "cell_type": "code",
      "source": [
        "# plots for accuracy and Loss with epochs\n",
        "\n",
        "error = pd.DataFrame(cat_dog.history)\n",
        "\n",
        "plt.figure(figsize=(18,5),dpi=200)\n",
        "sns.set_style('darkgrid')\n",
        "\n",
        "plt.subplot(121)\n",
        "plt.title('Cross Entropy Loss',fontsize=15)\n",
        "plt.xlabel('Epochs',fontsize=12)\n",
        "plt.ylabel('Loss',fontsize=12)\n",
        "plt.plot(error['loss'])\n",
        "plt.plot(error['val_loss'])\n",
        "\n",
        "plt.subplot(122)\n",
        "plt.title('Classification Accuracy',fontsize=15)\n",
        "plt.xlabel('Epochs',fontsize=12)\n",
        "plt.ylabel('Accuracy',fontsize=12)\n",
        "plt.plot(error['accuracy'])\n",
        "plt.plot(error['val_accuracy'])\n",
        "\n",
        "plt.show()"
      ],
      "metadata": {
        "_kg_hide-input": true,
        "execution": {
          "iopub.status.busy": "2023-09-05T14:23:31.710594Z",
          "iopub.execute_input": "2023-09-05T14:23:31.711004Z",
          "iopub.status.idle": "2023-09-05T14:24:22.711667Z",
          "shell.execute_reply.started": "2023-09-05T14:23:31.710969Z",
          "shell.execute_reply": "2023-09-05T14:24:22.710688Z"
        },
        "trusted": true,
        "id": "kzth8v4lqjOb"
      },
      "execution_count": null,
      "outputs": []
    },
    {
      "cell_type": "markdown",
      "source": [
        "<a id='18'></a>\n",
        "<div class=\"alert alert-block alert-danger\"><h3 style=\"text-align:center;color:black\"> Evaluvation </h3> </div>\n",
        "\n",
        "we will evaluvate the Training and validation data accuracy and loss."
      ],
      "metadata": {
        "id": "2phj3ahsqjOd"
      }
    },
    {
      "cell_type": "code",
      "source": [
        "# Evaluvate for train generator\n",
        "loss,acc = model.evaluate(train_generator,batch_size = bat_size, verbose = 0)\n",
        "\n",
        "print('The accuracy of the model for training data is:',acc*100)\n",
        "print('The Loss of the model for training data is:',loss)\n",
        "\n",
        "# Evaluvate for validation generator\n",
        "loss,acc = model.evaluate(val_generator,batch_size = bat_size, verbose = 0)\n",
        "\n",
        "print('The accuracy of the model for validation data is:',acc*100)\n",
        "print('The Loss of the model for validation data is:',loss)"
      ],
      "metadata": {
        "_kg_hide-input": true,
        "execution": {
          "iopub.status.busy": "2023-09-05T14:24:58.829815Z",
          "iopub.execute_input": "2023-09-05T14:24:58.830198Z",
          "iopub.status.idle": "2023-09-05T14:26:42.954357Z",
          "shell.execute_reply.started": "2023-09-05T14:24:58.830167Z",
          "shell.execute_reply": "2023-09-05T14:26:42.952944Z"
        },
        "trusted": true,
        "id": "sm19KiM3qjOf"
      },
      "execution_count": null,
      "outputs": []
    },
    {
      "cell_type": "markdown",
      "source": [
        "Finally, we will save the model for future use."
      ],
      "metadata": {
        "id": "xLDsKG6VqjOh"
      }
    },
    {
      "cell_type": "code",
      "source": [
        "# Save the Model\n",
        "model.save(\"model.h5\")"
      ],
      "metadata": {
        "execution": {
          "iopub.status.busy": "2023-09-05T14:26:42.957417Z",
          "iopub.execute_input": "2023-09-05T14:26:42.958445Z",
          "iopub.status.idle": "2023-09-05T14:26:43.107784Z",
          "shell.execute_reply.started": "2023-09-05T14:26:42.958258Z",
          "shell.execute_reply": "2023-09-05T14:26:43.10678Z"
        },
        "trusted": true,
        "id": "lx8B2OlDqjOk"
      },
      "execution_count": null,
      "outputs": []
    },
    {
      "cell_type": "markdown",
      "source": [
        "<a id='19'></a>\n",
        "<div class=\"alert alert-block alert-info\"><h2 style=\"text-align:center;color:black\"> Prediction </h2> </div>\n",
        "\n",
        "Now, we will predict the model on test dataset."
      ],
      "metadata": {
        "id": "tp9yAuDZqjOm"
      }
    },
    {
      "cell_type": "code",
      "source": [
        "# prediction\n",
        "result = model.predict(test_generator,batch_size = bat_size,verbose = 0)\n",
        "\n",
        "y_pred = np.argmax(result, axis = 1)\n",
        "\n",
        "y_true = test_generator.labels\n",
        "\n",
        "# Evaluvate\n",
        "loss,acc = model.evaluate(test_generator, batch_size = bat_size, verbose = 0)\n",
        "\n",
        "print('The accuracy of the model for testing data is:',acc*100)\n",
        "print('The Loss of the model for testing data is:',loss)"
      ],
      "metadata": {
        "execution": {
          "iopub.status.busy": "2023-09-05T14:27:06.299747Z",
          "iopub.execute_input": "2023-09-05T14:27:06.300335Z",
          "iopub.status.idle": "2023-09-05T14:27:13.998495Z",
          "shell.execute_reply.started": "2023-09-05T14:27:06.300301Z",
          "shell.execute_reply": "2023-09-05T14:27:13.997454Z"
        },
        "trusted": true,
        "id": "wr1w2-w2qjOn"
      },
      "execution_count": null,
      "outputs": []
    },
    {
      "cell_type": "markdown",
      "source": [
        "Classification report"
      ],
      "metadata": {
        "id": "ZxiA1sy3qjOp"
      }
    },
    {
      "cell_type": "code",
      "source": [
        "labels =['Cat','Dog']\n",
        "print(classification_report(y_true, y_pred,target_names=labels))"
      ],
      "metadata": {
        "execution": {
          "iopub.status.busy": "2023-09-05T14:27:19.159733Z",
          "iopub.execute_input": "2023-09-05T14:27:19.160747Z",
          "iopub.status.idle": "2023-09-05T14:27:19.180458Z",
          "shell.execute_reply.started": "2023-09-05T14:27:19.160712Z",
          "shell.execute_reply": "2023-09-05T14:27:19.179448Z"
        },
        "_kg_hide-input": true,
        "trusted": true,
        "id": "G0bLOFM1qjOr"
      },
      "execution_count": null,
      "outputs": []
    },
    {
      "cell_type": "markdown",
      "source": [
        "confusioin matrix"
      ],
      "metadata": {
        "id": "2CcRZZ4gqjOt"
      }
    },
    {
      "cell_type": "code",
      "source": [
        "confusion_mtx = confusion_matrix(y_true,y_pred)\n",
        "\n",
        "f,ax = plt.subplots(figsize = (8,4),dpi=200)\n",
        "sns.heatmap(confusion_mtx, annot=True, linewidths=0.1, cmap = \"gist_yarg_r\", linecolor=\"black\", fmt='.0f', ax=ax,cbar=False, xticklabels=labels, yticklabels=labels)\n",
        "\n",
        "plt.xlabel(\"Predicted Label\",fontsize=10)\n",
        "plt.ylabel(\"True Label\",fontsize=10)\n",
        "plt.title(\"Confusion Matrix\",fontsize=13)\n",
        "\n",
        "plt.show()"
      ],
      "metadata": {
        "execution": {
          "iopub.status.busy": "2023-09-05T14:27:22.841287Z",
          "iopub.execute_input": "2023-09-05T14:27:22.84164Z",
          "iopub.status.idle": "2023-09-05T14:27:23.106554Z",
          "shell.execute_reply.started": "2023-09-05T14:27:22.841611Z",
          "shell.execute_reply": "2023-09-05T14:27:23.105668Z"
        },
        "_kg_hide-input": true,
        "trusted": true,
        "id": "OHQtohcnqjOu"
      },
      "execution_count": null,
      "outputs": []
    },
    {
      "cell_type": "markdown",
      "source": [
        "<a id='20'></a>\n",
        "<div class=\"alert alert-block alert-info\"><h2 style=\"text-align:center;color:black\"> submission </h2> </div>\n",
        "Make predictions on kaggle test data for submission."
      ],
      "metadata": {
        "id": "I7VrENceqjOx"
      }
    },
    {
      "cell_type": "code",
      "source": [
        "size =(128,128)\n",
        "\n",
        "# loading into dataframe\n",
        "test_dir = \"../working/test1/\"\n",
        "filenames = os.listdir(test_dir)\n",
        "test_data = pd.DataFrame({\"filename\": filenames})\n",
        "test_data['label'] = 'unknown'\n",
        "\n",
        "# Create data genenerator for test data\n",
        "test1_idg =  test_datagen.flow_from_dataframe(test_data,\n",
        "                                     \"test1/\",\n",
        "                                     x_col= \"filename\",\n",
        "                                     y_col = 'label',\n",
        "                                     batch_size = bat_size,\n",
        "                                     target_size=size,\n",
        "                                     shuffle = False)\n",
        "\n",
        "# Test Prediction\n",
        "test1_predict = model.predict(test1_idg,verbose = 0)\n",
        "\n",
        "test1_predict_argmax = np.argmax(test1_predict, axis=1)\n",
        "\n",
        "y_test_pred = test1_predict_argmax\n",
        "\n",
        "test_data['label'] = y_test_pred\n",
        "\n",
        "# mapping\n",
        "label_mapping = {0: 'cat', 1: 'dog'}\n",
        "test_data['label'] = test_data['label'].map(label_mapping)\n",
        "test_data.head()\n",
        "\n",
        "# csv file output for submission\n",
        "sub = pd.read_csv('/kaggle/input/dogs-vs-cats/sampleSubmission.csv',index_col='id')\n",
        "\n",
        "sub['label'] = y_test_pred\n",
        "\n",
        "sub.to_csv('submission.csv',index=True)"
      ],
      "metadata": {
        "execution": {
          "iopub.status.busy": "2023-09-05T14:41:38.289739Z",
          "iopub.execute_input": "2023-09-05T14:41:38.290138Z",
          "iopub.status.idle": "2023-09-05T14:41:56.482153Z",
          "shell.execute_reply.started": "2023-09-05T14:41:38.290107Z",
          "shell.execute_reply": "2023-09-05T14:41:56.481092Z"
        },
        "_kg_hide-input": true,
        "trusted": true,
        "id": "31aOs7wdqjOz"
      },
      "execution_count": null,
      "outputs": []
    },
    {
      "cell_type": "markdown",
      "source": [
        "<a id='21'></a>\n",
        "<div class=\"alert alert-block alert-danger\"><h3 style=\"text-align:center;color:black\"> Visualize Classified Images  </h3> </div>"
      ],
      "metadata": {
        "id": "_KYKUgN5qjO1"
      }
    },
    {
      "cell_type": "code",
      "source": [
        "fig, axes = plt.subplots(1, 10, figsize=(20, 4))\n",
        "for idx in range(10):\n",
        "    image_path = os.path.join(test_dir, test_data.iloc[idx]['filename'])\n",
        "    image = Image.open(image_path)\n",
        "    axes[idx].imshow(image)\n",
        "    axes[idx].set_title(\"Label: \" + test_data.iloc[idx]['label'])\n",
        "    axes[idx].axis('off')\n",
        "plt.show()"
      ],
      "metadata": {
        "execution": {
          "iopub.status.busy": "2023-09-05T14:41:56.484409Z",
          "iopub.execute_input": "2023-09-05T14:41:56.484822Z",
          "iopub.status.idle": "2023-09-05T14:41:57.990679Z",
          "shell.execute_reply.started": "2023-09-05T14:41:56.484785Z",
          "shell.execute_reply": "2023-09-05T14:41:57.989632Z"
        },
        "_kg_hide-input": true,
        "trusted": true,
        "id": "ucNNJFykqjO3"
      },
      "execution_count": null,
      "outputs": []
    },
    {
      "cell_type": "markdown",
      "source": [
        "After watching the images we can see the our model is quite accurate with 94% accuracy."
      ],
      "metadata": {
        "id": "Vp428kP4qjO5"
      }
    },
    {
      "cell_type": "markdown",
      "source": [
        "\n",
        "<a id='22'></a>\n",
        "<div class=\"alert alert-block alert-info\"><h2 style=\"text-align:center;color:black\"> Conclusion </h2> </div>\n",
        "\n",
        "\n",
        "We successfully built a deep neural network model by implementing Convolutional Neural Network (CNN) to classify dog and cat images with very high accuracy 97.32 %.\n",
        "\n",
        "The model was used to predict the classes of the images from the independent test set and results were submitted to test the accuracy of the prediction with fresh data.\n",
        "\n",
        "The Cat vs Dog Image Classification model demonstrates the successful implementation of a Convolutional Neural Network for image classification tasks. By accurately distinguishing between images of cats and dogs, this project showcases the potential of deep learning algorithms in solving real-world problems involving image analysis. Through this project, we aim to inspire further exploration of CNNs and their applications in various domains,"
      ],
      "metadata": {
        "id": "PMsPyz6MqjO7"
      }
    }
  ]
}